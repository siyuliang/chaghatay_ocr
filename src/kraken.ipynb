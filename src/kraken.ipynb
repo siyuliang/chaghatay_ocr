{
 "cells": [
  {
   "cell_type": "code",
   "execution_count": null,
   "id": "59090fa6",
   "metadata": {},
   "outputs": [],
   "source": [
    "# Install relevant packages\n",
    "# !pip install kraken"
   ]
  },
  {
   "cell_type": "code",
   "execution_count": 23,
   "id": "d9f4cdee",
   "metadata": {},
   "outputs": [
    {
     "name": "stdout",
     "output_type": "stream",
     "text": [
      "\u001b[2K\u001b[2;36m[04/06/25 15:20:52]\u001b[0m\u001b[2;36m \u001b[0m\u001b[33mWARNING \u001b[0m No metadata found for record            \u001b]8;id=39138;file:///Users/siyuliang/anaconda3/lib/python3.11/site-packages/kraken/repo.py\u001b\\\u001b[2mrepo.py\u001b[0m\u001b]8;;\u001b\\\u001b[2m:\u001b[0m\u001b]8;id=116285;file:///Users/siyuliang/anaconda3/lib/python3.11/site-packages/kraken/repo.py#264\u001b\\\u001b[2m264\u001b[0m\u001b]8;;\u001b\\\n",
      "\u001b[2;36m                    \u001b[0m         \u001b[32m'10.5281/zenodo.15030337'\u001b[0m.              \u001b[2m           \u001b[0m\n",
      "\u001b[2K\u001b[2;36m[04/06/25 15:20:53]\u001b[0m\u001b[2;36m \u001b[0m\u001b[33mWARNING \u001b[0m No metadata found for record            \u001b]8;id=246437;file:///Users/siyuliang/anaconda3/lib/python3.11/site-packages/kraken/repo.py\u001b\\\u001b[2mrepo.py\u001b[0m\u001b]8;;\u001b\\\u001b[2m:\u001b[0m\u001b]8;id=754415;file:///Users/siyuliang/anaconda3/lib/python3.11/site-packages/kraken/repo.py#264\u001b\\\u001b[2m264\u001b[0m\u001b]8;;\u001b\\\n",
      "\u001b[2;36m                    \u001b[0m         \u001b[32m'10.5281/zenodo.13862096'\u001b[0m.              \u001b[2m           \u001b[0m\n",
      "\u001b[2K\u001b[2;36m[04/06/25 15:20:57]\u001b[0m\u001b[2;36m \u001b[0m\u001b[33mWARNING \u001b[0m No metadata found for record            \u001b]8;id=6087;file:///Users/siyuliang/anaconda3/lib/python3.11/site-packages/kraken/repo.py\u001b\\\u001b[2mrepo.py\u001b[0m\u001b]8;;\u001b\\\u001b[2m:\u001b[0m\u001b]8;id=193636;file:///Users/siyuliang/anaconda3/lib/python3.11/site-packages/kraken/repo.py#264\u001b\\\u001b[2m264\u001b[0m\u001b]8;;\u001b\\\n",
      "\u001b[2;36m                    \u001b[0m         \u001b[32m'10.5281/zenodo.10599911'\u001b[0m.              \u001b[2m           \u001b[0m\n",
      "\u001b[2K\u001b[2;36m[04/06/25 15:20:58]\u001b[0m\u001b[2;36m \u001b[0m\u001b[33mWARNING \u001b[0m No metadata found for record            \u001b]8;id=525964;file:///Users/siyuliang/anaconda3/lib/python3.11/site-packages/kraken/repo.py\u001b\\\u001b[2mrepo.py\u001b[0m\u001b]8;;\u001b\\\u001b[2m:\u001b[0m\u001b]8;id=868484;file:///Users/siyuliang/anaconda3/lib/python3.11/site-packages/kraken/repo.py#264\u001b\\\u001b[2m264\u001b[0m\u001b]8;;\u001b\\\n",
      "\u001b[2;36m                    \u001b[0m         \u001b[32m'10.5281/zenodo.10259287'\u001b[0m.              \u001b[2m           \u001b[0m\n",
      "\u001b[2KRetrieving model list \u001b[91m━━━━━━━━━━━━━━━━━━\u001b[0m\u001b[90m╺\u001b[0m\u001b[90m━━━━━━━━━━━━\u001b[0m \u001b[35m 60%\u001b[0m \u001b[35m28/47\u001b[0m \u001b[36m0:00:13\u001b[0m \u001b[33m0:00:22\u001b[0m\n",
      "\u001b[?25h10.5281/zenodo.13942714 (pytorch) - Kuzushiji\u001b[0m\n",
      "10.5281/zenodo.13814200 (pytorch) - Segmentation model for historical Samaritan Manuscripts for one column pages, model trained on 13 pentateuchal Samaritan manuscripts\u001b[0m\n",
      "10.5281/zenodo.13788177 (pytorch) - McCATMuS - Transcription model for handwritten, printed and typewritten documents from the 16th century to the 21st century\u001b[0m\n",
      "10.5281/zenodo.13741957 (pytorch) - Model trained on 11th century manuscripts to produce graphematic transcription (Latin).\u001b[0m\n",
      "10.5281/zenodo.13736584 (pytorch) - Model trained on 11th century manuscripts to produce expanded transcription (Latin).\u001b[0m\n",
      "10.5281/zenodo.11113737 (pytorch) - Latin Incunabula and Early Prints\u001b[0m\n",
      "10.5281/zenodo.10886224 (pytorch) - Model train on openly licensed data from HTR-United from the 17th century to the 21st were used.\u001b[0m\n",
      "10.5281/zenodo.10602357 (pytorch) - CATMuS-Print (Tiny, 2024-01-31) - Diachronic model for French prints and other languages\u001b[0m\n",
      "10.5281/zenodo.10592716 (pytorch) - CATMuS-Print (Large, 2024-01-30) - Diachronic model for French prints and other languages\u001b[0m\n",
      "10.5281/zenodo.10519596 (pytorch) - OCR model for German prints trained from several datasets\u001b[0m\n",
      "10.5281/zenodo.8425684 (pytorch) - Experimental printed syriac model\u001b[0m\n",
      "10.5281/zenodo.8193498 (pytorch) - Transcription model for Lucien Peraire's handwriting (French, 20th century)\u001b[0m\n",
      "10.5281/zenodo.7933463 (pytorch) - HTR model for German manuscripts trained from several datasets\u001b[0m\n",
      "10.5281/zenodo.7933402 (pytorch) - Fraktur model trained from enhanced Austrian Newspapers dataset\u001b[0m\n",
      "10.5281/zenodo.7631619 (pytorch) - Model trained on all available data, from 8th to 16th century, from GalliCorpora, CREMMA Medieval and CREMMA Medieval Lat, as well as data from Eutyches, Caroline Minuscule, DecameronFR. Transcription guidelines: https://hal.archives-ouvertes.fr/hal-03697382\u001b[0m\n",
      "10.5281/zenodo.7410529 (pytorch) - Gallicorpora+ ancient prints (Litterature)\u001b[0m\n",
      "10.5281/zenodo.7051644 (pytorch) - Printed Persian Base Model Trained on the OpenITI Corpus\u001b[0m\n",
      "10.5281/zenodo.7050342 (pytorch) - Printed Ottoman Base Model Trained on the OpenITI Corpus\u001b[0m\n",
      "10.5281/zenodo.7050296 (pytorch) - Printed Arabic Base Model Trained on the OpenITI Corpus\u001b[0m\n",
      "10.5281/zenodo.7050270 (pytorch) - Printed Arabic-Script Base Model Trained on the OpenITI Corpus\u001b[0m\n",
      "10.5281/zenodo.6669508 (pytorch) - Cremma-Medieval Old French Model (Litterature)\u001b[0m\n",
      "10.5281/zenodo.6542744 (pytorch) - LECTAUREP Contemporary French Model (Administration)\u001b[0m\n",
      "10.5281/zenodo.5468665 (pytorch) - Medieval Hebrew manuscripts in Sephardi bookhand version 1.0\u001b[0m\n",
      "10.5281/zenodo.5468573 (pytorch) - Medieval Hebrew manuscripts in Italian bookhand version 1.0\u001b[0m\n",
      "10.5281/zenodo.5468478 (pytorch) - Medieval Hebrew manuscripts in Ashkenazi bookhand\u001b[0m\n",
      "10.5281/zenodo.5468286 (pytorch) - Medieval Hebrew manuscripts version 1.0\u001b[0m\n",
      "10.5281/zenodo.2577813 (pytorch) - A generalized model for English printed text\u001b[0m\n"
     ]
    }
   ],
   "source": [
    "!kraken list"
   ]
  },
  {
   "cell_type": "code",
   "execution_count": null,
   "id": "c937696e",
   "metadata": {},
   "outputs": [
    {
     "name": "stdout",
     "output_type": "stream",
     "text": [
      "\u001b[2KProcessing \u001b[90m━━━━━━━━━━━━━━━━━━━━━━━━━━━━━━━━━━━\u001b[0m \u001b[35m100%\u001b[0m \u001b[32m16.3/16.3 MB\u001b[0m \u001b[36m0:00:00\u001b[0m \u001b[33m0:00:10\u001b[0m00:10\u001b[0m00:09\u001b[0m\n",
      "\u001b[?25hModel name: arabic_best.mlmodel\u001b[0m\n"
     ]
    }
   ],
   "source": [
    "!kraken get 10.5281/zenodo.7050296"
   ]
  },
  {
   "cell_type": "code",
   "execution_count": 33,
   "id": "1a462a74",
   "metadata": {},
   "outputs": [
    {
     "name": "stdout",
     "output_type": "stream",
     "text": [
      "Loading ANN /Users/siyuliang/anaconda3/lib/python3.11/site-packages/kraken/blla.mlmodel\t\u001b[0m\u001b[32m✓\u001b[0m\n",
      "Loading ANN arabic_best.mlmodel\t\u001b[0m\u001b[32m✓\u001b[0m\n",
      "Segmenting v1.jpg\t\u001b[0m\u001b[32m✓\u001b[0m\n",
      "\u001b[2KProcessing \u001b[90m━━━━━━━━━━━━━━━━━━━━━━━━━━━━━━━━━━━━━━━━\u001b[0m \u001b[35m100%\u001b[0m \u001b[35m16/16\u001b[0m \u001b[36m0:00:00\u001b[0m \u001b[33m0:00:00\u001b[0m\n",
      "\u001b[?25hWriting recognition results for v1.jpg\t\u001b[0m\u001b[32m✓\u001b[0m\n"
     ]
    }
   ],
   "source": [
    "!kraken -i v1.jpg kraken_ara.txt segment -bl ocr -m arabic_best.mlmodel --text-direction horizontal-tb"
   ]
  },
  {
   "cell_type": "code",
   "execution_count": 31,
   "id": "f41782d1",
   "metadata": {},
   "outputs": [
    {
     "name": "stdout",
     "output_type": "stream",
     "text": [
      "name: 10.5281/zenodo.7050270\n",
      "\n",
      "Printed Arabic-Script Base Model Trained on the OpenITI Corpus\n",
      "\n",
      "Printed Arabic-Script Base Model Trained on the OpenITI Corpus\n",
      "==============================================================\n",
      "\n",
      "This is a text recognition model trained on the OpenITI dataset of printed\n",
      "Arabic-script text available at [0] in its state of 2022-09-03. It encompasses\n",
      "real world Arabic (~23k lines), Persian (~17k lines), Urdu (~11k lines), and\n",
      "Ottoman Turkish (~7100 lines) material in a variety of typefaces augmented by a\n",
      "synthetic data in the Tahoma (600 lines) typeface.\n",
      "\n",
      "As the model is trained on a variety of languages and highly diverse typefaces\n",
      "it is mostly intended as a base model for fine-tuning more specific models from\n",
      "it. In line with this it has not been extensively verified or optimized.\n",
      "\n",
      "The ground truth was lightly normalized to NFD but is otherwise untouched. \n",
      "\n",
      "[0]: https://github.com/OpenITI/arabic_print_data.git\n",
      "scripts: Arab\n",
      "alphabet: !\"'()*+,-./0123456789:;<=>?ABCDEFGHIJKLMNOPRSTUVWX[\\]_abcdefghijklmnoprstuvwxyz{|}«»،؎؛؟ءابةتثجحخدذرزسشصضطظعغـفقكلمنهوىي٠١٢٣٤٥٦٧٨٩٪٭ٱٴٹپچڈڑژڤکڭگںھہۃیے۔ە۰۱۲۳۴۵۶۷۸۹ݣ‘’“”∗☆﴾﴿ﷲﷺﺅ SPACE, ARABIC SIGN SALLALLAHOU ALAYHE WASSALLAM, ARABIC SIGN ALAYHE ASSALLAM, ARABIC SIGN RAHMATULLAH ALAYHE, ARABIC SIGN RADI ALLAHOU ANHU, ARABIC SIGN TAKHALLUS, ARABIC FATHATAN, ARABIC DAMMATAN, ARABIC KASRATAN, ARABIC FATHA, ARABIC DAMMA, ARABIC KASRA, ARABIC SHADDA, ARABIC SUKUN, ARABIC MADDAH ABOVE, ARABIC HAMZA ABOVE, ARABIC HAMZA BELOW, ARABIC SUBSCRIPT ALEF, ARABIC INVERTED DAMMA, ARABIC LETTER SUPERSCRIPT ALEF, ARABIC SMALL HIGH THREE DOTS, RIGHT-TO-LEFT MARK\n",
      "accuracy: 95.31%\n",
      "license: cc-zero\n",
      "author(s): Benjamin Kiessling\n",
      "date: 2022-09-05\u001b[0m\n"
     ]
    }
   ],
   "source": [
    "!kraken show 10.5281/zenodo.7050270"
   ]
  },
  {
   "cell_type": "code",
   "execution_count": 24,
   "id": "87fd2744",
   "metadata": {},
   "outputs": [
    {
     "name": "stdout",
     "output_type": "stream",
     "text": [
      "\u001b[2KProcessing \u001b[90m━━━━━━━━━━━━━━━━━━━━━━━━━━━━━━━━━━━\u001b[0m \u001b[35m100%\u001b[0m \u001b[32m16.3/16.3 MB\u001b[0m \u001b[36m0:00:00\u001b[0m \u001b[33m0:00:08\u001b[0mm \u001b[33m0:00:08\u001b[0m\n",
      "\u001b[?25hModel name: all_arabic_scripts.mlmodel\u001b[0m\n"
     ]
    }
   ],
   "source": [
    "!kraken get 10.5281/zenodo.7050270"
   ]
  },
  {
   "cell_type": "code",
   "execution_count": null,
   "id": "20d8f6b3",
   "metadata": {},
   "outputs": [
    {
     "name": "stdout",
     "output_type": "stream",
     "text": [
      "Loading ANN /Users/siyuliang/anaconda3/lib/python3.11/site-packages/kraken/blla.mlmodel\t\u001b[0m\u001b[32m✓\u001b[0m\n",
      "Loading ANN all_arabic_scripts.mlmodel\t\u001b[0m\u001b[32m✓\u001b[0m\n",
      "Segmenting v1.jpg\t\u001b[0m\u001b[32m✓\u001b[0m\n",
      "\u001b[2KProcessing \u001b[90m━━━━━━━━━━━━━━━━━━━━━━━━━━━━━━━━━━━━━━━━\u001b[0m \u001b[35m100%\u001b[0m \u001b[35m16/16\u001b[0m \u001b[36m0:00:00\u001b[0m \u001b[33m0:00:00\u001b[0m\n",
      "\u001b[?25hWriting recognition results for v1.jpg\t\u001b[0m\u001b[32m✓\u001b[0m\n"
     ]
    }
   ],
   "source": [
    "!kraken -i v1.jpg kraken.txt segment -bl ocr -m all_arabic_scripts.mlmodel --text-direction horizontal-tb"
   ]
  }
 ],
 "metadata": {
  "kernelspec": {
   "display_name": "base",
   "language": "python",
   "name": "python3"
  },
  "language_info": {
   "codemirror_mode": {
    "name": "ipython",
    "version": 3
   },
   "file_extension": ".py",
   "mimetype": "text/x-python",
   "name": "python",
   "nbconvert_exporter": "python",
   "pygments_lexer": "ipython3",
   "version": "3.11.5"
  }
 },
 "nbformat": 4,
 "nbformat_minor": 5
}

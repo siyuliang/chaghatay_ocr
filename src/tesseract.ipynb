{
 "cells": [
  {
   "cell_type": "code",
   "execution_count": null,
   "id": "1277f9ee",
   "metadata": {},
   "outputs": [
    {
     "name": "stdout",
     "output_type": "stream",
     "text": [
      "7\n",
      "\n",
      "دبياريئ لا مشف مكاج خرتاز 7\n",
      "ججرراد بادا مسوونوشى معت ب وار 3\n",
      "24 7\n",
      "\n",
      "للك :در كك سناكم ا\n",
      "7\n",
      "\n",
      "إل\n",
      "\n",
      "وزو يكل ذاتيجىبيلاىناداسنار 1\n",
      "اك\n",
      "عقيد قبل ازاك ل ىكو رتك تار 1\n",
      "/\n",
      "/\n",
      "\n",
      "تانجمققجى زافقامنمواسىبإنناقانا\n",
      "مشوتتنازكرغي]_لاى يانناق نيلات\n",
      "\n"
     ]
    }
   ],
   "source": [
    "# Install necessary packages if you haven't already\n",
    "# !pip install pytesseract\n",
    "# !pip install Pillow\n",
    "\n",
    "import pytesseract\n",
    "from PIL import Image\n",
    "\n",
    "# Load the image\n",
    "image_path = 'data/v1.jpg'  \n",
    "img = Image.open(image_path)\n",
    "\n",
    "# Extract text from the image with Arabic language specified\n",
    "text = pytesseract.image_to_string(img, lang='ara')\n",
    "\n",
    "# Save the extracted text to a file\n",
    "with open('output/tesseract.txt', 'w', encoding='utf-8') as file:\n",
    "    file.write(text)"
   ]
  }
 ],
 "metadata": {
  "kernelspec": {
   "display_name": "base",
   "language": "python",
   "name": "python3"
  },
  "language_info": {
   "codemirror_mode": {
    "name": "ipython",
    "version": 3
   },
   "file_extension": ".py",
   "mimetype": "text/x-python",
   "name": "python",
   "nbconvert_exporter": "python",
   "pygments_lexer": "ipython3",
   "version": "3.11.5"
  }
 },
 "nbformat": 4,
 "nbformat_minor": 5
}
